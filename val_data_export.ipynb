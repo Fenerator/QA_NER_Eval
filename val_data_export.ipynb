{
 "cells": [
  {
   "cell_type": "markdown",
   "metadata": {},
   "source": [
    "# MRL ST2024 MC Questions"
   ]
  },
  {
   "cell_type": "markdown",
   "metadata": {},
   "source": [
    "## Create MC Format "
   ]
  },
  {
   "cell_type": "code",
   "execution_count": 7,
   "metadata": {},
   "outputs": [],
   "source": [
    "from pathlib import Path\n",
    "import pandas as pd\n",
    "import numpy as np\n",
    "import random\n",
    "import plotly.express as px\n",
    "BASE_PATH = Path('~/Documents/MRL/MC_exports')\n",
    "\n",
    "char2idx = {'A': 0, 'B': 1, 'C': 2, 'D': 3}\n",
    "idx2char = {0: 'A', 1: 'B', 2: 'C', 3: 'D'}"
   ]
  },
  {
   "cell_type": "code",
   "execution_count": 8,
   "metadata": {},
   "outputs": [],
   "source": [
    "def shuffle_answers(answers):\n",
    "    \"\"\"shuffle the answers, keep true answer label\n",
    "\n",
    "    Args:\n",
    "        answers (list): 0th index is the correct answer, the rest are incorrect\n",
    "\n",
    "    Returns:\n",
    "        label (str): the correct answer label\n",
    "        shuffled_answers (list): the shuffled answers\n",
    "    \"\"\"\n",
    "    keys = ['A', 'B', 'C', 'D'] # A: correct, B-D: incorrect\n",
    "    answer_choices = list(zip(keys, answers))\n",
    "    rand_answers = random.sample(answer_choices, len(answer_choices))\n",
    "    rand_answers = dict(rand_answers)\n",
    "    labels = list(rand_answers.keys())\n",
    "\n",
    "    label = labels.index('A') # Correct answer pos\n",
    "    label = idx2char[label]\n",
    "\n",
    "    return label, list(rand_answers.values())\n",
    "\n",
    "\n"
   ]
  },
  {
   "cell_type": "code",
   "execution_count": 9,
   "metadata": {},
   "outputs": [
    {
     "name": "stdout",
     "output_type": "stream",
     "text": [
      "ALS: 650\n",
      "YO: 659\n",
      "TR: 0\n",
      "AZ: 153\n",
      "IG: 747\n"
     ]
    },
    {
     "data": {
      "application/vnd.plotly.v1+json": {
       "config": {
        "plotlyServerURL": "https://plot.ly"
       },
       "data": [
        {
         "alignmentgroup": "True",
         "bingroup": "x",
         "hovertemplate": "label=%{x}<br>count=%{y}<extra></extra>",
         "legendgroup": "",
         "marker": {
          "color": "#636efa",
          "pattern": {
           "shape": ""
          }
         },
         "name": "",
         "nbinsx": 4,
         "offsetgroup": "",
         "orientation": "v",
         "showlegend": false,
         "type": "histogram",
         "x": [
          "B",
          "C",
          "B",
          "B",
          "C",
          "B",
          "B",
          "C",
          "B",
          "C",
          "C",
          "C",
          "C",
          "B",
          "C",
          "A",
          "B",
          "C",
          "A",
          "C",
          "A",
          "D",
          "D",
          "C",
          "D",
          "A",
          "D",
          "A",
          "A",
          "C",
          "A",
          "C",
          "B",
          "A",
          "A",
          "D",
          "D",
          "A",
          "D",
          "A",
          "C",
          "C",
          "B",
          "D",
          "C",
          "A",
          "C",
          "C",
          "B",
          "C",
          "D",
          "B",
          "D",
          "D",
          "D",
          "A",
          "D",
          "B",
          "B",
          "C",
          "B",
          "D",
          "B",
          "C",
          "D",
          "A",
          "D",
          "C",
          "C",
          "A",
          "C",
          "A",
          "C",
          "D",
          "C",
          "B",
          "B",
          "C",
          "C",
          "A",
          "B",
          "B",
          "C",
          "C",
          "B",
          "A",
          "B",
          "D",
          "C",
          "C",
          "B",
          "C",
          "C",
          "B",
          "D",
          "B",
          "D",
          "C",
          "A",
          "C",
          "C",
          "D",
          "B",
          "C",
          "A",
          "D",
          "A",
          "C",
          "B",
          "A",
          "D",
          "D",
          "C",
          "C",
          "B",
          "A",
          "A",
          "B",
          "D",
          "D",
          "C",
          "D",
          "B",
          "A",
          "A",
          "C",
          "C",
          "A",
          "D",
          "D",
          "A",
          "C",
          "C",
          "B",
          "C",
          "A",
          "B",
          "D",
          "A",
          "D",
          "D",
          "A",
          "B",
          "B",
          "C",
          "B",
          "C",
          "D",
          "B",
          "D",
          "C",
          "D",
          "A",
          "D",
          "B",
          "C",
          "C",
          "C",
          "C",
          "C",
          "D",
          "C",
          "A",
          "C",
          "D",
          "B",
          "B",
          "C",
          "D",
          "D",
          "C",
          "D",
          "D",
          "D",
          "D",
          "A",
          "A",
          "C",
          "A",
          "D",
          "A",
          "B",
          "A",
          "B",
          "D",
          "D",
          "D",
          "B",
          "B",
          "A",
          "D",
          "A",
          "A",
          "D",
          "B",
          "B",
          "C",
          "D",
          "D",
          "A",
          "A",
          "A",
          "C",
          "C",
          "D",
          "A",
          "D",
          "D",
          "B",
          "D",
          "C",
          "A",
          "D",
          "D",
          "D",
          "A",
          "C",
          "A",
          "A",
          "B",
          "A",
          "B",
          "B",
          "B",
          "D",
          "A",
          "D",
          "D",
          "A",
          "C",
          "D",
          "A",
          "B",
          "A",
          "C",
          "B",
          "C",
          "A",
          "B",
          "D",
          "C",
          "B",
          "D",
          "C",
          "C",
          "D",
          "B",
          "B",
          "A",
          "A",
          "B",
          "A",
          "A",
          "C",
          "B",
          "D",
          "B",
          "B",
          "A",
          "D",
          "C",
          "D",
          "C",
          "A",
          "C",
          "C",
          "A",
          "A",
          "C",
          "C",
          "A",
          "D",
          "D",
          "C",
          "B",
          "D",
          "A",
          "B",
          "D",
          "C",
          "D",
          "A",
          "D",
          "D",
          "A",
          "D",
          "B",
          "A",
          "D",
          "C",
          "A",
          "B",
          "A",
          "C",
          "B",
          "A",
          "B",
          "A",
          "D",
          "A",
          "C",
          "B",
          "A",
          "C",
          "C",
          "D",
          "B",
          "D",
          "D",
          "A",
          "B",
          "B",
          "D",
          "A",
          "B",
          "A",
          "B",
          "A",
          "C",
          "C",
          "D",
          "A",
          "D",
          "A",
          "C",
          "C",
          "C",
          "B",
          "C",
          "B",
          "C",
          "B",
          "A",
          "B",
          "D",
          "C",
          "A",
          "A",
          "A",
          "A",
          "D",
          "D",
          "D",
          "D",
          "A",
          "D",
          "D",
          "C",
          "C",
          "D",
          "B",
          "C",
          "D",
          "B",
          "A",
          "D",
          "D",
          "C",
          "A",
          "D",
          "C",
          "A",
          "A",
          "D",
          "B",
          "D",
          "C",
          "D",
          "D",
          "B",
          "D",
          "A",
          "D",
          "C",
          "D",
          "B",
          "B",
          "A",
          "B",
          "A",
          "A",
          "A",
          "C",
          "A",
          "A",
          "B",
          "C",
          "A",
          "C",
          "A",
          "C",
          "B",
          "D",
          "D",
          "A",
          "B",
          "B",
          "B",
          "C",
          "C",
          "D",
          "C",
          "C",
          "D",
          "C",
          "C",
          "C",
          "B",
          "A",
          "A",
          "D",
          "A",
          "B",
          "A",
          "A",
          "B",
          "A",
          "B",
          "C",
          "A",
          "C",
          "B",
          "C",
          "B",
          "A",
          "A",
          "B",
          "B",
          "D",
          "A",
          "D",
          "A",
          "A",
          "C",
          "A",
          "D",
          "D",
          "A",
          "B",
          "C",
          "D",
          "B",
          "C",
          "C",
          "D",
          "C",
          "D",
          "D",
          "D",
          "C",
          "B",
          "C",
          "B",
          "D",
          "C",
          "B",
          "C",
          "A",
          "B",
          "D",
          "C",
          "D",
          "D",
          "A",
          "C",
          "D",
          "B",
          "B",
          "B",
          "B",
          "A",
          "B",
          "A",
          "A",
          "D",
          "B",
          "B",
          "D",
          "B",
          "C",
          "C",
          "C",
          "D",
          "B",
          "C",
          "D",
          "D",
          "A",
          "C",
          "D",
          "C",
          "A",
          "C",
          "C",
          "C",
          "D",
          "A",
          "C",
          "D",
          "B",
          "D",
          "A",
          "D",
          "D",
          "C",
          "C",
          "A",
          "A",
          "B",
          "D",
          "D",
          "D",
          "D",
          "D",
          "C",
          "B",
          "A",
          "B",
          "D",
          "B",
          "D",
          "C",
          "C",
          "B",
          "C",
          "B",
          "C",
          "B",
          "C",
          "B",
          "D",
          "C",
          "C",
          "B",
          "A",
          "B",
          "A",
          "C",
          "B",
          "A",
          "A",
          "D",
          "B",
          "D",
          "C",
          "B",
          "C",
          "A",
          "D",
          "D",
          "D",
          "D",
          "A",
          "D",
          "B",
          "D",
          "C",
          "C",
          "D",
          "C",
          "D",
          "A",
          "D",
          "C",
          "C",
          "B",
          "D",
          "B",
          "C",
          "A",
          "D",
          "C",
          "A",
          "C",
          "A",
          "A",
          "D",
          "C",
          "A",
          "C",
          "A",
          "B",
          "A",
          "A",
          "D",
          "B",
          "A",
          "C",
          "B",
          "D",
          "C",
          "D",
          "A",
          "C",
          "D",
          "A",
          "B",
          "D",
          "C",
          "B",
          "B",
          "B",
          "D",
          "D",
          "D",
          "A",
          "B",
          "B",
          "A",
          "A",
          "A",
          "A",
          "C",
          "C",
          "B",
          "C",
          "B",
          "D",
          "B",
          "D",
          "C",
          "C",
          "A",
          "B",
          "C",
          "B",
          "C",
          "D",
          "C",
          "A",
          "C",
          "A",
          "B",
          "B",
          "B",
          "D",
          "D",
          "D",
          "D",
          "C",
          "B",
          "B",
          "A",
          "A",
          "A",
          "A",
          "B",
          "B",
          "A",
          "C",
          "A",
          "D",
          "B",
          "C",
          "D",
          "B",
          "A",
          "A",
          "C",
          "D",
          "D",
          "B",
          "C",
          "B",
          "C",
          "D",
          "C",
          "B",
          "C",
          "A",
          "A",
          "D",
          "C",
          "D",
          "A",
          "B",
          "D",
          "B",
          "A",
          "A",
          "D",
          "A",
          "B",
          "B",
          "D",
          "B",
          "A",
          "C",
          "D",
          "B",
          "D",
          "A",
          "A",
          "B",
          "D",
          "D",
          "D",
          "B",
          "D",
          "B",
          "A",
          "C",
          "B",
          "A",
          "A",
          "B",
          "A",
          "C",
          "D",
          "C",
          "C",
          "D",
          "C",
          "B",
          "A",
          "B",
          "A",
          "C",
          "C",
          "D",
          "A",
          "B",
          "D",
          "D",
          "A",
          "B",
          "C",
          "C",
          "A",
          "B",
          "C",
          "C",
          "A",
          "B",
          "D",
          "A",
          "B",
          "A",
          "B",
          "B",
          "B",
          "C",
          "C",
          "D",
          "D",
          "B",
          "A"
         ],
         "xaxis": "x",
         "yaxis": "y"
        }
       ],
       "layout": {
        "barmode": "relative",
        "legend": {
         "tracegroupgap": 0
        },
        "margin": {
         "t": 60
        },
        "template": {
         "data": {
          "bar": [
           {
            "error_x": {
             "color": "#2a3f5f"
            },
            "error_y": {
             "color": "#2a3f5f"
            },
            "marker": {
             "line": {
              "color": "#E5ECF6",
              "width": 0.5
             },
             "pattern": {
              "fillmode": "overlay",
              "size": 10,
              "solidity": 0.2
             }
            },
            "type": "bar"
           }
          ],
          "barpolar": [
           {
            "marker": {
             "line": {
              "color": "#E5ECF6",
              "width": 0.5
             },
             "pattern": {
              "fillmode": "overlay",
              "size": 10,
              "solidity": 0.2
             }
            },
            "type": "barpolar"
           }
          ],
          "carpet": [
           {
            "aaxis": {
             "endlinecolor": "#2a3f5f",
             "gridcolor": "white",
             "linecolor": "white",
             "minorgridcolor": "white",
             "startlinecolor": "#2a3f5f"
            },
            "baxis": {
             "endlinecolor": "#2a3f5f",
             "gridcolor": "white",
             "linecolor": "white",
             "minorgridcolor": "white",
             "startlinecolor": "#2a3f5f"
            },
            "type": "carpet"
           }
          ],
          "choropleth": [
           {
            "colorbar": {
             "outlinewidth": 0,
             "ticks": ""
            },
            "type": "choropleth"
           }
          ],
          "contour": [
           {
            "colorbar": {
             "outlinewidth": 0,
             "ticks": ""
            },
            "colorscale": [
             [
              0,
              "#0d0887"
             ],
             [
              0.1111111111111111,
              "#46039f"
             ],
             [
              0.2222222222222222,
              "#7201a8"
             ],
             [
              0.3333333333333333,
              "#9c179e"
             ],
             [
              0.4444444444444444,
              "#bd3786"
             ],
             [
              0.5555555555555556,
              "#d8576b"
             ],
             [
              0.6666666666666666,
              "#ed7953"
             ],
             [
              0.7777777777777778,
              "#fb9f3a"
             ],
             [
              0.8888888888888888,
              "#fdca26"
             ],
             [
              1,
              "#f0f921"
             ]
            ],
            "type": "contour"
           }
          ],
          "contourcarpet": [
           {
            "colorbar": {
             "outlinewidth": 0,
             "ticks": ""
            },
            "type": "contourcarpet"
           }
          ],
          "heatmap": [
           {
            "colorbar": {
             "outlinewidth": 0,
             "ticks": ""
            },
            "colorscale": [
             [
              0,
              "#0d0887"
             ],
             [
              0.1111111111111111,
              "#46039f"
             ],
             [
              0.2222222222222222,
              "#7201a8"
             ],
             [
              0.3333333333333333,
              "#9c179e"
             ],
             [
              0.4444444444444444,
              "#bd3786"
             ],
             [
              0.5555555555555556,
              "#d8576b"
             ],
             [
              0.6666666666666666,
              "#ed7953"
             ],
             [
              0.7777777777777778,
              "#fb9f3a"
             ],
             [
              0.8888888888888888,
              "#fdca26"
             ],
             [
              1,
              "#f0f921"
             ]
            ],
            "type": "heatmap"
           }
          ],
          "heatmapgl": [
           {
            "colorbar": {
             "outlinewidth": 0,
             "ticks": ""
            },
            "colorscale": [
             [
              0,
              "#0d0887"
             ],
             [
              0.1111111111111111,
              "#46039f"
             ],
             [
              0.2222222222222222,
              "#7201a8"
             ],
             [
              0.3333333333333333,
              "#9c179e"
             ],
             [
              0.4444444444444444,
              "#bd3786"
             ],
             [
              0.5555555555555556,
              "#d8576b"
             ],
             [
              0.6666666666666666,
              "#ed7953"
             ],
             [
              0.7777777777777778,
              "#fb9f3a"
             ],
             [
              0.8888888888888888,
              "#fdca26"
             ],
             [
              1,
              "#f0f921"
             ]
            ],
            "type": "heatmapgl"
           }
          ],
          "histogram": [
           {
            "marker": {
             "pattern": {
              "fillmode": "overlay",
              "size": 10,
              "solidity": 0.2
             }
            },
            "type": "histogram"
           }
          ],
          "histogram2d": [
           {
            "colorbar": {
             "outlinewidth": 0,
             "ticks": ""
            },
            "colorscale": [
             [
              0,
              "#0d0887"
             ],
             [
              0.1111111111111111,
              "#46039f"
             ],
             [
              0.2222222222222222,
              "#7201a8"
             ],
             [
              0.3333333333333333,
              "#9c179e"
             ],
             [
              0.4444444444444444,
              "#bd3786"
             ],
             [
              0.5555555555555556,
              "#d8576b"
             ],
             [
              0.6666666666666666,
              "#ed7953"
             ],
             [
              0.7777777777777778,
              "#fb9f3a"
             ],
             [
              0.8888888888888888,
              "#fdca26"
             ],
             [
              1,
              "#f0f921"
             ]
            ],
            "type": "histogram2d"
           }
          ],
          "histogram2dcontour": [
           {
            "colorbar": {
             "outlinewidth": 0,
             "ticks": ""
            },
            "colorscale": [
             [
              0,
              "#0d0887"
             ],
             [
              0.1111111111111111,
              "#46039f"
             ],
             [
              0.2222222222222222,
              "#7201a8"
             ],
             [
              0.3333333333333333,
              "#9c179e"
             ],
             [
              0.4444444444444444,
              "#bd3786"
             ],
             [
              0.5555555555555556,
              "#d8576b"
             ],
             [
              0.6666666666666666,
              "#ed7953"
             ],
             [
              0.7777777777777778,
              "#fb9f3a"
             ],
             [
              0.8888888888888888,
              "#fdca26"
             ],
             [
              1,
              "#f0f921"
             ]
            ],
            "type": "histogram2dcontour"
           }
          ],
          "mesh3d": [
           {
            "colorbar": {
             "outlinewidth": 0,
             "ticks": ""
            },
            "type": "mesh3d"
           }
          ],
          "parcoords": [
           {
            "line": {
             "colorbar": {
              "outlinewidth": 0,
              "ticks": ""
             }
            },
            "type": "parcoords"
           }
          ],
          "pie": [
           {
            "automargin": true,
            "type": "pie"
           }
          ],
          "scatter": [
           {
            "fillpattern": {
             "fillmode": "overlay",
             "size": 10,
             "solidity": 0.2
            },
            "type": "scatter"
           }
          ],
          "scatter3d": [
           {
            "line": {
             "colorbar": {
              "outlinewidth": 0,
              "ticks": ""
             }
            },
            "marker": {
             "colorbar": {
              "outlinewidth": 0,
              "ticks": ""
             }
            },
            "type": "scatter3d"
           }
          ],
          "scattercarpet": [
           {
            "marker": {
             "colorbar": {
              "outlinewidth": 0,
              "ticks": ""
             }
            },
            "type": "scattercarpet"
           }
          ],
          "scattergeo": [
           {
            "marker": {
             "colorbar": {
              "outlinewidth": 0,
              "ticks": ""
             }
            },
            "type": "scattergeo"
           }
          ],
          "scattergl": [
           {
            "marker": {
             "colorbar": {
              "outlinewidth": 0,
              "ticks": ""
             }
            },
            "type": "scattergl"
           }
          ],
          "scattermapbox": [
           {
            "marker": {
             "colorbar": {
              "outlinewidth": 0,
              "ticks": ""
             }
            },
            "type": "scattermapbox"
           }
          ],
          "scatterpolar": [
           {
            "marker": {
             "colorbar": {
              "outlinewidth": 0,
              "ticks": ""
             }
            },
            "type": "scatterpolar"
           }
          ],
          "scatterpolargl": [
           {
            "marker": {
             "colorbar": {
              "outlinewidth": 0,
              "ticks": ""
             }
            },
            "type": "scatterpolargl"
           }
          ],
          "scatterternary": [
           {
            "marker": {
             "colorbar": {
              "outlinewidth": 0,
              "ticks": ""
             }
            },
            "type": "scatterternary"
           }
          ],
          "surface": [
           {
            "colorbar": {
             "outlinewidth": 0,
             "ticks": ""
            },
            "colorscale": [
             [
              0,
              "#0d0887"
             ],
             [
              0.1111111111111111,
              "#46039f"
             ],
             [
              0.2222222222222222,
              "#7201a8"
             ],
             [
              0.3333333333333333,
              "#9c179e"
             ],
             [
              0.4444444444444444,
              "#bd3786"
             ],
             [
              0.5555555555555556,
              "#d8576b"
             ],
             [
              0.6666666666666666,
              "#ed7953"
             ],
             [
              0.7777777777777778,
              "#fb9f3a"
             ],
             [
              0.8888888888888888,
              "#fdca26"
             ],
             [
              1,
              "#f0f921"
             ]
            ],
            "type": "surface"
           }
          ],
          "table": [
           {
            "cells": {
             "fill": {
              "color": "#EBF0F8"
             },
             "line": {
              "color": "white"
             }
            },
            "header": {
             "fill": {
              "color": "#C8D4E3"
             },
             "line": {
              "color": "white"
             }
            },
            "type": "table"
           }
          ]
         },
         "layout": {
          "annotationdefaults": {
           "arrowcolor": "#2a3f5f",
           "arrowhead": 0,
           "arrowwidth": 1
          },
          "autotypenumbers": "strict",
          "coloraxis": {
           "colorbar": {
            "outlinewidth": 0,
            "ticks": ""
           }
          },
          "colorscale": {
           "diverging": [
            [
             0,
             "#8e0152"
            ],
            [
             0.1,
             "#c51b7d"
            ],
            [
             0.2,
             "#de77ae"
            ],
            [
             0.3,
             "#f1b6da"
            ],
            [
             0.4,
             "#fde0ef"
            ],
            [
             0.5,
             "#f7f7f7"
            ],
            [
             0.6,
             "#e6f5d0"
            ],
            [
             0.7,
             "#b8e186"
            ],
            [
             0.8,
             "#7fbc41"
            ],
            [
             0.9,
             "#4d9221"
            ],
            [
             1,
             "#276419"
            ]
           ],
           "sequential": [
            [
             0,
             "#0d0887"
            ],
            [
             0.1111111111111111,
             "#46039f"
            ],
            [
             0.2222222222222222,
             "#7201a8"
            ],
            [
             0.3333333333333333,
             "#9c179e"
            ],
            [
             0.4444444444444444,
             "#bd3786"
            ],
            [
             0.5555555555555556,
             "#d8576b"
            ],
            [
             0.6666666666666666,
             "#ed7953"
            ],
            [
             0.7777777777777778,
             "#fb9f3a"
            ],
            [
             0.8888888888888888,
             "#fdca26"
            ],
            [
             1,
             "#f0f921"
            ]
           ],
           "sequentialminus": [
            [
             0,
             "#0d0887"
            ],
            [
             0.1111111111111111,
             "#46039f"
            ],
            [
             0.2222222222222222,
             "#7201a8"
            ],
            [
             0.3333333333333333,
             "#9c179e"
            ],
            [
             0.4444444444444444,
             "#bd3786"
            ],
            [
             0.5555555555555556,
             "#d8576b"
            ],
            [
             0.6666666666666666,
             "#ed7953"
            ],
            [
             0.7777777777777778,
             "#fb9f3a"
            ],
            [
             0.8888888888888888,
             "#fdca26"
            ],
            [
             1,
             "#f0f921"
            ]
           ]
          },
          "colorway": [
           "#636efa",
           "#EF553B",
           "#00cc96",
           "#ab63fa",
           "#FFA15A",
           "#19d3f3",
           "#FF6692",
           "#B6E880",
           "#FF97FF",
           "#FECB52"
          ],
          "font": {
           "color": "#2a3f5f"
          },
          "geo": {
           "bgcolor": "white",
           "lakecolor": "white",
           "landcolor": "#E5ECF6",
           "showlakes": true,
           "showland": true,
           "subunitcolor": "white"
          },
          "hoverlabel": {
           "align": "left"
          },
          "hovermode": "closest",
          "mapbox": {
           "style": "light"
          },
          "paper_bgcolor": "white",
          "plot_bgcolor": "#E5ECF6",
          "polar": {
           "angularaxis": {
            "gridcolor": "white",
            "linecolor": "white",
            "ticks": ""
           },
           "bgcolor": "#E5ECF6",
           "radialaxis": {
            "gridcolor": "white",
            "linecolor": "white",
            "ticks": ""
           }
          },
          "scene": {
           "xaxis": {
            "backgroundcolor": "#E5ECF6",
            "gridcolor": "white",
            "gridwidth": 2,
            "linecolor": "white",
            "showbackground": true,
            "ticks": "",
            "zerolinecolor": "white"
           },
           "yaxis": {
            "backgroundcolor": "#E5ECF6",
            "gridcolor": "white",
            "gridwidth": 2,
            "linecolor": "white",
            "showbackground": true,
            "ticks": "",
            "zerolinecolor": "white"
           },
           "zaxis": {
            "backgroundcolor": "#E5ECF6",
            "gridcolor": "white",
            "gridwidth": 2,
            "linecolor": "white",
            "showbackground": true,
            "ticks": "",
            "zerolinecolor": "white"
           }
          },
          "shapedefaults": {
           "line": {
            "color": "#2a3f5f"
           }
          },
          "ternary": {
           "aaxis": {
            "gridcolor": "white",
            "linecolor": "white",
            "ticks": ""
           },
           "baxis": {
            "gridcolor": "white",
            "linecolor": "white",
            "ticks": ""
           },
           "bgcolor": "#E5ECF6",
           "caxis": {
            "gridcolor": "white",
            "linecolor": "white",
            "ticks": ""
           }
          },
          "title": {
           "x": 0.05
          },
          "xaxis": {
           "automargin": true,
           "gridcolor": "white",
           "linecolor": "white",
           "ticks": "",
           "title": {
            "standoff": 15
           },
           "zerolinecolor": "white",
           "zerolinewidth": 2
          },
          "yaxis": {
           "automargin": true,
           "gridcolor": "white",
           "linecolor": "white",
           "ticks": "",
           "title": {
            "standoff": 15
           },
           "zerolinecolor": "white",
           "zerolinewidth": 2
          }
         }
        },
        "xaxis": {
         "anchor": "y",
         "domain": [
          0,
          1
         ],
         "title": {
          "text": "label"
         }
        },
        "yaxis": {
         "anchor": "x",
         "domain": [
          0,
          1
         ],
         "title": {
          "text": "count"
         }
        }
       }
      }
     },
     "metadata": {},
     "output_type": "display_data"
    }
   ],
   "source": [
    "langs = ['ALS', 'YO', 'TR', 'AZ', 'IG']\n",
    "val_lens = [200, 200, 195, 200, 200] # remaining are for test\n",
    "\n",
    "for i, lang in enumerate(langs):\n",
    "    df = pd.read_csv(BASE_PATH / f'{lang}.csv')\n",
    "\n",
    "    df = df[['annotation_id', 'text', 'question_updated', 'answer_updated', 'wrong_answer_1', 'wrong_answer_2', 'wrong_answer_3']]\n",
    "    df.rename(columns={'question_updated': 'question', 'answer_updated': 'A', 'wrong_answer_1': 'B', 'wrong_answer_2': 'C', 'wrong_answer_3': 'D'}, inplace=True)\n",
    "    df = df.loc[val_lens[i]:]\n",
    "    \n",
    "    df['label'] = 'A'\n",
    "    for index, row in df.iterrows():\n",
    "        answers = [row['A'], row['B'], row['C'], row['D']]\n",
    "        label, answers_shuffled = shuffle_answers(answers)\n",
    "        \n",
    "        assert answers[0] == answers_shuffled[char2idx[label]], f'issue with shuffling: \\ngold label: {label}, \\ngold answer: {answers[0]} \\nAnswers shuffled: {answers_shuffled}'\n",
    "        \n",
    "        df.at[index, 'label'] = label\n",
    "        df.at[index, 'A'] = answers_shuffled[0]\n",
    "        df.at[index, 'B'] = answers_shuffled[1]\n",
    "        df.at[index, 'C'] = answers_shuffled[2]\n",
    "        df.at[index, 'D'] = answers_shuffled[3]\n",
    "\n",
    "    \n",
    "    df.to_csv(BASE_PATH / f'MC_{lang}_reference_test.csv', index=False)\n",
    "    \n",
    "    df_unlabeled = df.drop(columns=['label'])\n",
    "    df_unlabeled['prediction'] = ''\n",
    "    df_unlabeled.to_csv(BASE_PATH / f'MC_{lang}_test.predict', index=False)\n",
    "\n",
    "    print(f'{lang}: {len(df)}')\n",
    "    \n",
    "    \n",
    "    hist = px.histogram(df, x=\"label\", nbins=4)\n",
    "    \n",
    "    \n",
    "    \n",
    "    \n",
    "\n",
    "hist.show()\n"
   ]
  },
  {
   "cell_type": "markdown",
   "metadata": {},
   "source": [
    "## Evaluate MC Answers"
   ]
  },
  {
   "cell_type": "code",
   "execution_count": 10,
   "metadata": {},
   "outputs": [
    {
     "data": {
      "text/plain": [
       "(747, 747)"
      ]
     },
     "execution_count": 10,
     "metadata": {},
     "output_type": "execute_result"
    }
   ],
   "source": [
    "y_true = df['label'].to_list()\n",
    "answer_options = ['A', 'B', 'C', 'D']\n",
    "y_pred = random.choices(answer_options, k=len(y_true))\n",
    "\n",
    "len(y_true), len(y_pred)\n"
   ]
  },
  {
   "cell_type": "code",
   "execution_count": 11,
   "metadata": {},
   "outputs": [
    {
     "data": {
      "text/plain": [
       "0.2222222222222222"
      ]
     },
     "execution_count": 11,
     "metadata": {},
     "output_type": "execute_result"
    }
   ],
   "source": [
    "import sklearn.metrics as metrics\n",
    "\n",
    "accuracy = metrics.accuracy_score(y_true, y_pred, normalize=True)\n",
    "f1 = metrics.f1_score(y_true, y_pred, average='micro')\n",
    "precision = metrics.precision_score(y_true, y_pred, average='micro')\n",
    "recall = metrics.recall_score(y_true, y_pred, average='micro')\n",
    "\n",
    "recall"
   ]
  }
 ],
 "metadata": {
  "kernelspec": {
   "display_name": "mai",
   "language": "python",
   "name": "python3"
  },
  "language_info": {
   "codemirror_mode": {
    "name": "ipython",
    "version": 3
   },
   "file_extension": ".py",
   "mimetype": "text/x-python",
   "name": "python",
   "nbconvert_exporter": "python",
   "pygments_lexer": "ipython3",
   "version": "3.12.4"
  }
 },
 "nbformat": 4,
 "nbformat_minor": 2
}
