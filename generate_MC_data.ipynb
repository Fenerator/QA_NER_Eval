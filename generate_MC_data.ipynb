{
 "cells": [
  {
   "cell_type": "code",
   "execution_count": 1,
   "metadata": {},
   "outputs": [],
   "source": [
    "import argparse, re\n",
    "from pathlib import Path\n",
    "import pandas as pd\n",
    "import numpy as np"
   ]
  },
  {
   "cell_type": "code",
   "execution_count": 2,
   "metadata": {},
   "outputs": [],
   "source": [
    "OUT_PATH = Path('Exports')\n",
    "LANG = 'TR'\n",
    "\n",
    "QUESTION_FILE_PATH = Path(OUT_PATH / f'{LANG}_Questions.csv')\n",
    "ANSWER_FILE_PATH1 = Path(OUT_PATH / f'{LANG}_Answers1.csv')\n",
    "ANSWER_FILE_PATH2 = Path(OUT_PATH / f'{LANG}_Answers2.csv')\n"
   ]
  },
  {
   "cell_type": "code",
   "execution_count": 3,
   "metadata": {},
   "outputs": [
    {
     "name": "stdout",
     "output_type": "stream",
     "text": [
      "Orig: Q:  964 A:  304\n",
      "Q filtered:  965 A filtered:  304\n",
      "Q orig contains -1 more tasks\n",
      "Q Orig:  964 Filtered:  965\n"
     ]
    },
    {
     "name": "stderr",
     "output_type": "stream",
     "text": [
      "/var/folders/4d/zhxj67g10gnf67g5fvj667kc0000gn/T/ipykernel_51209/2714868614.py:18: SettingWithCopyWarning: \n",
      "A value is trying to be set on a copy of a slice from a DataFrame.\n",
      "Try using .loc[row_indexer,col_indexer] = value instead\n",
      "\n",
      "See the caveats in the documentation: https://pandas.pydata.org/pandas-docs/stable/user_guide/indexing.html#returning-a-view-versus-a-copy\n",
      "  question_nans['answer'] = '' #[''] * len(question_nans)\n"
     ]
    }
   ],
   "source": [
    "# 'agreement', 'annotation_id', 'annotator', 'created_at', 'id',\n",
    "# 'lead_time', 'question', 'sub_id', 'text', 'title', 'updated_at',\n",
    "# 'url'\n",
    "question_df = pd.read_csv(QUESTION_FILE_PATH)\n",
    "\n",
    "# 'Q_Annotator', 'agreement', 'annotation_id', 'annotator', 'answer',\n",
    "#  'created_at', 'id', 'lead_time', 'question', 'text', 'title',\n",
    "#  'updated_at', 'url'\n",
    "answer_df1 = pd.read_csv(ANSWER_FILE_PATH1)\n",
    "answer_df2 = pd.read_csv(ANSWER_FILE_PATH2)\n",
    "\n",
    "answer_df = pd.concat([answer_df1, answer_df2], ignore_index=True)\n",
    "print('Orig: Q: ', len(question_df), 'A: ', len(answer_df))\n",
    "\n",
    "# drop duplicate questions, answers and append the empty questions / answers\n",
    "question_df_filtered = pd.concat([question_df.drop_duplicates(subset=['question']), question_df[question_df['question'].isna()]], ignore_index=False)\n",
    "question_nans = question_df_filtered[question_df_filtered['question'].isna()]\n",
    "question_nans['answer'] = '' #[''] * len(question_nans)\n",
    "answer_df_filtered = pd.concat([answer_df.drop_duplicates(subset=['answer']), answer_df[answer_df['answer'].isna()]], ignore_index=False)\n",
    "\n",
    "print('Q filtered: ', len(question_df_filtered), 'A filtered: ', len(answer_df_filtered))\n",
    "\n",
    "if len(question_df_filtered) != len(question_df):\n",
    "    print(f\"Q orig contains {len(question_df)-len(question_df_filtered)} more tasks\")\n",
    "    print('Q Orig: ', len(question_df), 'Filtered: ',  len(question_df_filtered))\n",
    "    q_dups = question_df[question_df.duplicated(subset=['question'], keep=False)]\n",
    "    \n",
    "if len(answer_df_filtered) != len(answer_df):\n",
    "    print(f\"A orig contains {len(answer_df)-len(answer_df_filtered)} more tasks\")\n",
    "    print('A orig: ', len(answer_df), 'Filtered: ',  len(answer_df_filtered))\n"
   ]
  },
  {
   "cell_type": "code",
   "execution_count": 9,
   "metadata": {},
   "outputs": [
    {
     "name": "stdout",
     "output_type": "stream",
     "text": [
      "Len df before: 303\n",
      "Len df after: 303\n"
     ]
    },
    {
     "data": {
      "text/plain": [
       "1003"
      ]
     },
     "execution_count": 9,
     "metadata": {},
     "output_type": "execute_result"
    }
   ],
   "source": [
    "# get all existing questions / answers from the answer df (1 taks per question)\n",
    "# last rows contain no answers / questions\n",
    "print(f'Len df before: {len(answer_df_filtered)}')\n",
    "answer_df_filtered = answer_df_filtered.drop_duplicates(subset=['question', 'answer'], keep='first')\n",
    "print(f'Len df after: {len(answer_df_filtered)}')\n",
    "\n",
    "\n",
    "# answer_df_filtered (Q+A correct), answer_nans (Q correct, A missing), question_nans (Q missing, A nonexistent)\n",
    "df = pd.concat([answer_df_filtered, question_nans], ignore_index=True)\n",
    "\n",
    "\n",
    "# save the new df\n",
    "df.to_csv(OUT_PATH / f'{LANG}_Answers_filtered.csv', index=True)\n",
    "len(df)\n"
   ]
  }
 ],
 "metadata": {
  "kernelspec": {
   "display_name": "mai",
   "language": "python",
   "name": "python3"
  },
  "language_info": {
   "codemirror_mode": {
    "name": "ipython",
    "version": 3
   },
   "file_extension": ".py",
   "mimetype": "text/x-python",
   "name": "python",
   "nbconvert_exporter": "python",
   "pygments_lexer": "ipython3",
   "version": "3.11.5"
  }
 },
 "nbformat": 4,
 "nbformat_minor": 2
}
